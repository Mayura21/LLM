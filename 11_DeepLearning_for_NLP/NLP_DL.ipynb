{
 "cells": [
  {
   "cell_type": "markdown",
   "metadata": {},
   "source": [
    "### Introduction to NLP in Deep Learning"
   ]
  },
  {
   "cell_type": "markdown",
   "metadata": {},
   "source": [
    "ANN-Artificial Neural Network\n",
    "1. Classification\n",
    "2. Regression"
   ]
  },
  {
   "cell_type": "markdown",
   "metadata": {},
   "source": [
    "Eg: House price prediction\n",
    "\n",
    "1. Weight\n",
    "2. Bias\n",
    "3. Forward propagation\n",
    "4. Loss\n",
    "5. Backward propagation\n",
    "\n",
    "- Sequence of data doesn't matter"
   ]
  },
  {
   "cell_type": "markdown",
   "metadata": {},
   "source": [
    "Convolutional Neural Network\n",
    "1. Images\n",
    "2. Video frames\n",
    "\n",
    "Ex:\n",
    "1. Image classification\n",
    "2. Object detection (RCNN, yolo)"
   ]
  },
  {
   "cell_type": "markdown",
   "metadata": {},
   "source": [
    "Data ---> Sequential data\n",
    "\n",
    "1. Text generation\n",
    "2. Chatbot conversation -> Q & A\n",
    "3. Language translation\n",
    "4. Autosuggestion -> Linkedin, Gmail\n",
    "5. Sales data ->Datetime"
   ]
  },
  {
   "cell_type": "markdown",
   "metadata": {},
   "source": [
    "Can we use ANN to solve this problem? which has sequential data."
   ]
  },
  {
   "cell_type": "markdown",
   "metadata": {},
   "source": [
    "Generative AI -> LLM, Multimodel"
   ]
  },
  {
   "cell_type": "markdown",
   "metadata": {},
   "source": [
    "1. Simple RNN\n",
    "2. LSTM / GRU RNN\n",
    "3. Bidirectional RNN\n",
    "4. Encodes and decoders\n",
    "5. Self attention\n",
    "6. Transformers\n",
    "7. GenAI"
   ]
  },
  {
   "cell_type": "markdown",
   "metadata": {},
   "source": []
  }
 ],
 "metadata": {
  "kernelspec": {
   "display_name": "venv",
   "language": "python",
   "name": "python3"
  },
  "language_info": {
   "name": "python",
   "version": "3.10.9"
  }
 },
 "nbformat": 4,
 "nbformat_minor": 2
}
