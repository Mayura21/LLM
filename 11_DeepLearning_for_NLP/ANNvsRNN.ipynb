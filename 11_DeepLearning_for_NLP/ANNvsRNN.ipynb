{
 "cells": [
  {
   "cell_type": "markdown",
   "metadata": {},
   "source": [
    "### ANN vs RNN"
   ]
  },
  {
   "cell_type": "markdown",
   "metadata": {},
   "source": [
    "Dataset (Sentiment Analysis)\n",
    "\n",
    "Text:   Output\n",
    "\n",
    "The food is good        1\n",
    "\n",
    "The food is bad         0\n",
    "\n",
    "The food is not good    0"
   ]
  },
  {
   "cell_type": "markdown",
   "metadata": {},
   "source": [
    "##### ANN"
   ]
  },
  {
   "cell_type": "markdown",
   "metadata": {},
   "source": [
    "Text preprocessing: Text  --->  Vectors"
   ]
  },
  {
   "cell_type": "markdown",
   "metadata": {},
   "source": [
    "BOW\n",
    "\n",
    "Vocabulary size is 4"
   ]
  },
  {
   "cell_type": "markdown",
   "metadata": {},
   "source": [
    "    food        good        bad     not\n",
    "    1           1           0       0\n",
    "    1           0           1       0\n",
    "    1           1           0       1"
   ]
  },
  {
   "cell_type": "markdown",
   "metadata": {},
   "source": [
    "Text data -> Sequence information is important"
   ]
  },
  {
   "cell_type": "markdown",
   "metadata": {},
   "source": [
    "Simple RNN -> Recurrent Neural Network\n",
    "\n",
    "Data will be sequential"
   ]
  }
 ],
 "metadata": {
  "language_info": {
   "name": "python"
  }
 },
 "nbformat": 4,
 "nbformat_minor": 2
}
