{
 "cells": [
  {
   "cell_type": "markdown",
   "metadata": {},
   "source": [
    "### Sentiment Analysis\n",
    "\n",
    "Text:               Output\n",
    "\n",
    "Food is good        1\n",
    "\n",
    "Food is bad         0\n",
    "\n",
    "Pizza is amazing    1\n",
    "\n",
    "Burger is bad       0\n",
    "\n",
    "\n",
    "\n",
    "Dataset ---> \n",
    "\n",
    "Text preprocessing (Tokenization ->  Lower case of words -> Regular expression) ---> \n",
    "\n",
    "Text preprocessing 2 (Stemming -> Lemmatization -> Stopwords) ---> \n",
    "\n",
    "Text to Vectors (Word embeddings)(One Hot Encoding -> Bag of Words(BOW) -> TF-IDF -> Word2Vec -> AvgWord2Vec) ---> \n",
    "\n",
    "ML Algorithms"
   ]
  },
  {
   "cell_type": "markdown",
   "metadata": {},
   "source": []
  }
 ],
 "metadata": {
  "language_info": {
   "name": "python"
  }
 },
 "nbformat": 4,
 "nbformat_minor": 2
}
