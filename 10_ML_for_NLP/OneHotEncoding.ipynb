{
 "cells": [
  {
   "cell_type": "markdown",
   "metadata": {},
   "source": [
    "### One Hot Encoding\n",
    "\n",
    "Text:               Output\n",
    "\n",
    "Food is good        1\n",
    "\n",
    "Food is bad         0\n",
    "\n",
    "Pizza is amazing    1"
   ]
  },
  {
   "cell_type": "markdown",
   "metadata": {},
   "source": [
    "Unique words: Food, is, good, bad, Pizza, amazaing"
   ]
  },
  {
   "cell_type": "markdown",
   "metadata": {},
   "source": [
    "D1\n",
    "\n",
    "[[1, 0, 0, 0, 0, 0],\n",
    "\n",
    " [0, 1, 0, 0, 0, 0],\n",
    "\n",
    " [0, 0, 1, 0, 0, 0]]"
   ]
  },
  {
   "cell_type": "markdown",
   "metadata": {},
   "source": [
    "D2\n",
    "\n",
    "[[1, 0, 0, 0, 0, 0],\n",
    "\n",
    " [0, 1, 0, 0, 0, 0],\n",
    "\n",
    " [0, 0, 0, 1, 0, 0]]"
   ]
  },
  {
   "cell_type": "markdown",
   "metadata": {},
   "source": [
    "##### Advantages\n",
    "\n",
    "1. Easy to implement in python (scikit-learn OHE, pd.get_dummies())\n",
    "2. \n",
    "\n",
    "##### Disadvantages\n",
    "1. Creates sparse matrix which leads to Overfitting\n",
    "2. Size should be fixed for ML algorithm.\n",
    "3. No semantic meaning is getting captured.\n",
    "4. Out of vocabulary"
   ]
  },
  {
   "cell_type": "markdown",
   "metadata": {},
   "source": []
  }
 ],
 "metadata": {
  "kernelspec": {
   "display_name": "llm_venv",
   "language": "python",
   "name": "python3"
  },
  "language_info": {
   "name": "python",
   "version": "3.9.6"
  }
 },
 "nbformat": 4,
 "nbformat_minor": 2
}
