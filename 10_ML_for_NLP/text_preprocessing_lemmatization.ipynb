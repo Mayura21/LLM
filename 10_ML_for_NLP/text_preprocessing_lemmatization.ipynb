{
 "cells": [
  {
   "cell_type": "markdown",
   "metadata": {},
   "source": [
    "## Lemmantizarion"
   ]
  },
  {
   "cell_type": "markdown",
   "metadata": {},
   "source": [
    "During stemming, proper word is not the output, meaning of the word is changing. \n",
    "\n",
    "#### WordNet Lemmatizer\n",
    "Output we get after lemmatization is called Lemma which is root word rather than root stem. "
   ]
  },
  {
   "cell_type": "code",
   "execution_count": 1,
   "metadata": {},
   "outputs": [],
   "source": [
    "from nltk.stem import WordNetLemmatizer"
   ]
  },
  {
   "cell_type": "code",
   "execution_count": 2,
   "metadata": {},
   "outputs": [],
   "source": [
    "lemmatizer = WordNetLemmatizer()"
   ]
  },
  {
   "cell_type": "code",
   "execution_count": 3,
   "metadata": {},
   "outputs": [
    {
     "data": {
      "text/plain": [
       "'going'"
      ]
     },
     "execution_count": 3,
     "metadata": {},
     "output_type": "execute_result"
    }
   ],
   "source": [
    "lemmatizer.lemmatize('going')"
   ]
  },
  {
   "cell_type": "code",
   "execution_count": 4,
   "metadata": {},
   "outputs": [
    {
     "data": {
      "text/plain": [
       "'\\nPos\\nNoun - n\\nVerb - v\\nAdjective - a\\nAdverb - r\\n'"
      ]
     },
     "execution_count": 4,
     "metadata": {},
     "output_type": "execute_result"
    }
   ],
   "source": [
    "\"\"\"\n",
    "Pos\n",
    "Noun - n\n",
    "Verb - v\n",
    "Adjective - a\n",
    "Adverb - r\n",
    "\"\"\""
   ]
  },
  {
   "cell_type": "code",
   "execution_count": 5,
   "metadata": {},
   "outputs": [
    {
     "data": {
      "text/plain": [
       "'go'"
      ]
     },
     "execution_count": 5,
     "metadata": {},
     "output_type": "execute_result"
    }
   ],
   "source": [
    "lemmatizer.lemmatize('going', 'v')\n"
   ]
  },
  {
   "cell_type": "code",
   "execution_count": 6,
   "metadata": {},
   "outputs": [
    {
     "data": {
      "text/plain": [
       "'going'"
      ]
     },
     "execution_count": 6,
     "metadata": {},
     "output_type": "execute_result"
    }
   ],
   "source": [
    "lemmatizer.lemmatize('going', 'a')"
   ]
  },
  {
   "cell_type": "code",
   "execution_count": 7,
   "metadata": {},
   "outputs": [
    {
     "data": {
      "text/plain": [
       "'going'"
      ]
     },
     "execution_count": 7,
     "metadata": {},
     "output_type": "execute_result"
    }
   ],
   "source": [
    "lemmatizer.lemmatize('going', 'r')"
   ]
  },
  {
   "cell_type": "code",
   "execution_count": 8,
   "metadata": {},
   "outputs": [],
   "source": [
    "words = ['write', 'writing', 'written', 'history', 'programs', 'finally', 'programming', 'finally', 'finalize', 'eaten']"
   ]
  },
  {
   "cell_type": "code",
   "execution_count": 11,
   "metadata": {},
   "outputs": [
    {
     "name": "stdout",
     "output_type": "stream",
     "text": [
      "write\t\t ---> \twrite\n",
      "writing\t\t ---> \twriting\n",
      "written\t\t ---> \twritten\n",
      "history\t\t ---> \thistory\n",
      "programs\t\t ---> \tprogram\n",
      "finally\t\t ---> \tfinally\n",
      "programming\t\t ---> \tprogramming\n",
      "finally\t\t ---> \tfinally\n",
      "finalize\t\t ---> \tfinalize\n",
      "eaten\t\t ---> \teaten\n"
     ]
    }
   ],
   "source": [
    "for word in words:\n",
    "    print(word + '\\t\\t ---> \\t' + lemmatizer.lemmatize(word))"
   ]
  },
  {
   "cell_type": "code",
   "execution_count": 12,
   "metadata": {},
   "outputs": [
    {
     "name": "stdout",
     "output_type": "stream",
     "text": [
      "write\t\t ---> \twrite\n",
      "writing\t\t ---> \twrite\n",
      "written\t\t ---> \twrite\n",
      "history\t\t ---> \thistory\n",
      "programs\t\t ---> \tprogram\n",
      "finally\t\t ---> \tfinally\n",
      "programming\t\t ---> \tprogram\n",
      "finally\t\t ---> \tfinally\n",
      "finalize\t\t ---> \tfinalize\n",
      "eaten\t\t ---> \teat\n"
     ]
    }
   ],
   "source": [
    "for word in words:\n",
    "    print(word + '\\t\\t ---> \\t' + lemmatizer.lemmatize(word, 'v'))"
   ]
  },
  {
   "cell_type": "code",
   "execution_count": 15,
   "metadata": {},
   "outputs": [
    {
     "data": {
      "text/plain": [
       "('fairly', 'sportingly')"
      ]
     },
     "execution_count": 15,
     "metadata": {},
     "output_type": "execute_result"
    }
   ],
   "source": [
    "lemmatizer.lemmatize('fairly', 'v'), lemmatizer.lemmatize('sportingly')"
   ]
  },
  {
   "cell_type": "code",
   "execution_count": null,
   "metadata": {},
   "outputs": [],
   "source": []
  }
 ],
 "metadata": {
  "kernelspec": {
   "display_name": "llm_venv",
   "language": "python",
   "name": "python3"
  },
  "language_info": {
   "codemirror_mode": {
    "name": "ipython",
    "version": 3
   },
   "file_extension": ".py",
   "mimetype": "text/x-python",
   "name": "python",
   "nbconvert_exporter": "python",
   "pygments_lexer": "ipython3",
   "version": "3.9.6"
  }
 },
 "nbformat": 4,
 "nbformat_minor": 2
}
