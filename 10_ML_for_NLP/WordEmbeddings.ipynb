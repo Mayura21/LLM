{
 "cells": [
  {
   "cell_type": "markdown",
   "metadata": {},
   "source": [
    "### Word Embeddings"
   ]
  },
  {
   "cell_type": "markdown",
   "metadata": {},
   "source": [
    "Representation of words for text analysis, in form of real valued vectors, that encodes the meaning of word such that words that are closer in the vector space are expected to be similar in meaning."
   ]
  },
  {
   "cell_type": "markdown",
   "metadata": {},
   "source": [
    "2 types:\n",
    "1. Count / Frequency: OHE, BOW, TF-IDF\n",
    "2. Deep Learning Trained Model: Disadvantages are solved here.  Word2Vec\n",
    "\n",
    "DL model has better accuracy than any."
   ]
  },
  {
   "cell_type": "markdown",
   "metadata": {},
   "source": [
    "Word2Vec\n",
    "\n",
    "1. CBOW (Continuous BOW): Need knowlwdge of ANN work, Loss function and optimizers and all\n",
    "2. Skipgram"
   ]
  },
  {
   "cell_type": "markdown",
   "metadata": {},
   "source": [
    "### Word2Vec"
   ]
  },
  {
   "cell_type": "markdown",
   "metadata": {},
   "source": [
    "It is NLP technique. NN model to learn word association from large corpus of text.\n",
    "\n",
    "Each word is converted into feature representation."
   ]
  },
  {
   "cell_type": "markdown",
   "metadata": {},
   "source": [
    "Vocabulary --> Unique words in my corpus/paragraph. "
   ]
  },
  {
   "cell_type": "markdown",
   "metadata": {},
   "source": [
    "                Boy             Girl            King            Queen           Apple           Mango           \n",
    "1. Gender       -1              1               -0.92           0.93            0.001           0.0001             \n",
    "2. Royal        0.01            -0.01           0.95            0.96            0               0\n",
    "3. Age          0.03            -0.03           0.75            0.76            0               0\n",
    "4. Food         0               0               0               0               0.9             0.99"
   ]
  },
  {
   "cell_type": "markdown",
   "metadata": {},
   "source": [
    "300 dimension / 300 features"
   ]
  },
  {
   "cell_type": "markdown",
   "metadata": {},
   "source": [
    "(King - Boy + Queen) = Girl"
   ]
  },
  {
   "cell_type": "markdown",
   "metadata": {},
   "source": [
    "Cosine similarity\n",
    "\n",
    "1. King [0.96 0.95]\n",
    "2. Queen [-0.94 -0.95]\n",
    "3. Man [0.95 0.98]\n",
    "4. Woman [-0.99 -0.92]"
   ]
  },
  {
   "cell_type": "markdown",
   "metadata": {},
   "source": [
    "Distance = (1 - cosine similarity)"
   ]
  },
  {
   "cell_type": "markdown",
   "metadata": {},
   "source": [
    "Cos ( angle between 2 points from (0, 0) coordinates)"
   ]
  },
  {
   "cell_type": "markdown",
   "metadata": {},
   "source": [
    "If distance is 0, then vectors are almost same.\n",
    "if distance is 1, then vectors are different."
   ]
  },
  {
   "cell_type": "markdown",
   "metadata": {},
   "source": []
  }
 ],
 "metadata": {
  "language_info": {
   "name": "python"
  }
 },
 "nbformat": 4,
 "nbformat_minor": 2
}
