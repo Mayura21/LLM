{
 "cells": [
  {
   "cell_type": "markdown",
   "metadata": {},
   "source": [
    "### Skipgram"
   ]
  },
  {
   "cell_type": "markdown",
   "metadata": {},
   "source": [
    "iNeuron company is related to Data Science\n",
    "\n",
    "--Input:            ---Output\n",
    "\n",
    "1. is:               iNeuron comapnay related to\n",
    "2. related:          company is to Data\n",
    "3. to:               is related Data Science\n",
    "\n",
    "Here the window size is 5"
   ]
  },
  {
   "cell_type": "markdown",
   "metadata": {},
   "source": [
    "Input and hidden layer are same as CBOW.\n",
    "\n",
    "Output layer has 5 nodes as window size and each node with 7 array size."
   ]
  },
  {
   "cell_type": "markdown",
   "metadata": {},
   "source": [
    "1. Small dataset -> CBOW\n",
    "2. Huge dataset -> Skipgram"
   ]
  },
  {
   "cell_type": "markdown",
   "metadata": {},
   "source": [
    "1. Increasing the training set\n",
    "2. Increase the window size which in turn leads to increase of vector dimension"
   ]
  },
  {
   "cell_type": "markdown",
   "metadata": {},
   "source": [
    "### Advantages of Word2Vec"
   ]
  },
  {
   "cell_type": "markdown",
   "metadata": {},
   "source": [
    "1. Sparse matrix ---> Dense matrix\n",
    "2. Semantic information is captured.\n",
    "3. Vocabulary size ->  Fixede set of dimension vectors\n",
    "4. OOV is also solved"
   ]
  },
  {
   "cell_type": "markdown",
   "metadata": {},
   "source": []
  }
 ],
 "metadata": {
  "language_info": {
   "name": "python"
  }
 },
 "nbformat": 4,
 "nbformat_minor": 2
}
